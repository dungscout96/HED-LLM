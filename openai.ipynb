{
 "cells": [
  {
   "cell_type": "code",
   "execution_count": 9,
   "id": "341bc62e-f5a8-44b6-913e-8c76803ed360",
   "metadata": {},
   "outputs": [],
   "source": [
    "import openai_api as opai\n",
    "from create_hed_prompts import get_hed_vocab"
   ]
  },
  {
   "cell_type": "markdown",
   "id": "c546e324-0095-4a1b-a791-c985872cba3b",
   "metadata": {},
   "source": [
    "## From HED tags to description"
   ]
  },
  {
   "cell_type": "code",
   "execution_count": 17,
   "id": "d10f6d72-3155-4dba-9013-1d579da06e2c",
   "metadata": {},
   "outputs": [
    {
     "data": {
      "text/plain": [
       "'The foreground view consists of a high number of ingestible objects. \\nThe background view features an adult human body, outdoors, with various furnishings, natural features such as the sky, urban elements, and man-made objects.'"
      ]
     },
     "execution_count": 17,
     "metadata": {},
     "output_type": "execute_result"
    }
   ],
   "source": [
    "messages=[\n",
    "        {\"role\": \"system\", \"content\": \"You are a good reporter.\"},\n",
    "        {\"role\": \"user\", \"content\": \"(Visual-presentation,(Background-view,Black),(Foreground-view,((Center-of,Computer-screen),(Cross,White)),(Grayscale,(Face,Hair,Image))))?\"},\n",
    "        {\"role\": \"assistant\", \"content\": \"The visual presentation of a white cross and a grayscale image of a face with hair in a black background.\"},\n",
    "        {\"role\": \"user\", \"content\": \"(Foreground-view, ((Item-count, High), Ingestible-object)), (Background-view, ((Human, Body, Agent-trait/Adult), Outdoors, Furnishing, Natural-feature/Sky, Urban, Man-made-object))\"}\n",
    "]\n",
    "opai.prompt_engineer(messages,\"gpt-3.5-turbo\")"
   ]
  },
  {
   "cell_type": "code",
   "execution_count": 18,
   "id": "4a193d3c-2fb4-4997-9395-b355031bc4ac",
   "metadata": {},
   "outputs": [
    {
     "data": {
      "text/plain": [
       "'In the foreground view, there is a high count of ingestible objects, indicating a variety of food or drinks. In the background view, there is an adult human body, outdoors, with various furnishing and natural features such as the sky. Additionally, there are man-made objects characteristic of an urban environment.'"
      ]
     },
     "execution_count": 18,
     "metadata": {},
     "output_type": "execute_result"
    }
   ],
   "source": [
    "messages=[\n",
    "        {\"role\": \"system\", \"content\": \"You are a good writer.\"},\n",
    "        {\"role\": \"user\", \"content\": \"(Visual-presentation,(Background-view,Black),(Foreground-view,((Center-of,Computer-screen),(Cross,White)),(Grayscale,(Face,Hair,Image))))?\"},\n",
    "        {\"role\": \"assistant\", \"content\": \"The visual presentation of a white cross and a grayscale image of a face with hair in a black background.\"},\n",
    "        {\"role\": \"user\", \"content\": \"(Foreground-view, ((Item-count, High), Ingestible-object)), (Background-view, ((Human, Body, Agent-trait/Adult), Outdoors, Furnishing, Natural-feature/Sky, Urban, Man-made-object))\"}\n",
    "]\n",
    "opai.prompt_engineer(messages,\"gpt-3.5-turbo\")"
   ]
  },
  {
   "cell_type": "code",
   "execution_count": 19,
   "id": "587cb519-6711-4f0b-bc49-d870a6a02182",
   "metadata": {},
   "outputs": [
    {
     "data": {
      "text/plain": [
       "'In the foreground, there is a high count of ingestible objects. In the background, there is an adult human body, outdoors, with a combination of natural features such as the sky and urban elements including man-made objects and furnishings.'"
      ]
     },
     "execution_count": 19,
     "metadata": {},
     "output_type": "execute_result"
    }
   ],
   "source": [
    "messages=[\n",
    "        {\"role\": \"system\", \"content\": \"You are a concise translator.\"},\n",
    "        {\"role\": \"user\", \"content\": \"(Visual-presentation,(Background-view,Black),(Foreground-view,((Center-of,Computer-screen),(Cross,White)),(Grayscale,(Face,Hair,Image))))?\"},\n",
    "        {\"role\": \"assistant\", \"content\": \"The visual presentation of a white cross and a grayscale image of a face with hair in a black background.\"},\n",
    "        {\"role\": \"user\", \"content\": \"(Foreground-view, ((Item-count, High), Ingestible-object)), (Background-view, ((Human, Body, Agent-trait/Adult), Outdoors, Furnishing, Natural-feature/Sky, Urban, Man-made-object))\"}\n",
    "]\n",
    "opai.prompt_engineer(messages,\"gpt-3.5-turbo\")"
   ]
  },
  {
   "cell_type": "markdown",
   "id": "61c8cebb-7d13-49ca-b339-40d410b68232",
   "metadata": {},
   "source": [
    "## From description to HED tags"
   ]
  },
  {
   "cell_type": "markdown",
   "id": "e0d51cf6-be07-4c9e-9c15-1acb5630bb6b",
   "metadata": {},
   "source": [
    "Retrieve HED terms from HEDLatest.xml on Github"
   ]
  },
  {
   "cell_type": "code",
   "execution_count": 12,
   "id": "51b994dd-8131-47ec-bb19-c4ae2e2fb196",
   "metadata": {
    "scrolled": true
   },
   "outputs": [
    {
     "name": "stdout",
     "output_type": "stream",
     "text": [
      "Event,Sensory-event,Agent-action,Data-feature,Experiment-control,Experiment-procedure,Experiment-structure,Measurement-event,Agent,Animal-agent,Avatar-agent,Controller-agent,Human-agent,Robotic-agent,Software-agent,Action,Communicate,Communicate-gesturally,Clap-hands,Clear-throat,Frown,Grimace,Nod-head,Pump-fist,Raise-eyebrows,Shake-fist,Shake-head,Shhh,Shrug,Smile,Spread-hands,Thumbs-down,Thumb-up,Wave,Widen-eyes,Wink,Communicate-musically,Hum,Play-instrument,Sing,Vocalize,Whistle,Communicate-vocally,Cry,Groan,Laugh,Scream,Shout,Sigh,Speak,Whisper,Move,Breathe,Blow,Cough,Exhale,Hiccup,Hold-breath,Inhale,Sneeze,Sniff,Move-body,Bend,Dance,Fall-down,Flex,Jerk,Lie-down,Recover-balance,Sit-down,Sit-up,Stand-up,Stretch,Shudder,Stumble,Turn,Move-body-part,Move-eyes,Blink,Close-eyes,Fixate,Inhibit-blinks,Open-eyes,Saccade,Squint,Stare,Move-face,Bite,Burp,Chew,Gurgle,Swallow,Gulp,Yawn,Move-head,Lift-head,Lower-head,Turn-head,Move-lower-extremity,Curl-toes,Hop,Jog,Jump,Kick,Pedal,Press-foot,Run,Step,Heel-strike,Toe-off,Trot,Walk,Move-torso,Move-upper-extremity,Drop,Grab,Grasp,Hold-down,Lift,Make-fist,Point,Press,Push,Reach,Release,Retract,Scratch,Snap-fingers,Touch,Perceive,Hear,See,Smell,Taste,Sense-by-touch,Perform,Close,Collide-with,Halt,Modify,Open,Operate,Play,Read,Repeat,Rest,Write,Think,Allow,Attend-to,Count,Deny,Detect,Discriminate,Encode,Evade,Generate,Identify,Imagine,Judge,Learn,Memorize,Plan,Predict,Recognize,Respond,Recall,Switch-attention,Track,Item,Biological-item,Anatomical-item,Body,Body-part,Head,Hair,Ear,Face,Cheek,Chin,Eye,Eyebrow,Forehead,Lip,Nose,Mouth,Teeth,Lower-extremity,Ankle,Calf,Foot,Big-toe,Heel,Instep,Little-toe,Toes,Knee,Shin,Thigh,Torso,Torso-back,Buttocks,Torso-chest,Gentalia,Hip,Waist,Upper-extremity,Elbow,Forearm,Hand,Finger,Index-finger,Little-finger,Middle-finger,Ring-finger,Thumb,Palm,Knuckles,Shoulder,Upper-arm,Wrist,Organism,Animal,Human,Plant,Language-item,Character,Clause,Glyph,Nonword,Paragraph,Phoneme,Phrase,Sentence,Syllable,Textblock,Word,Object,Geometric-object,Pattern,Dots,LED-pattern,2D-shape,Arrow,Clockface,Cross,Dash,Ellipse,Circle,Rectangle,Square,Single-point,Star,Triangle,3D-shape,Box,Cube,Cone,Cylinder,Ellipsoid,Sphere,Pyramid,Ingestible-object,Man-made-object,Building,Room,Roof,Entrance,Attic,Basement,Clothing,Device,Assistive-device,Glasses,Writing-device,Pen,Pencil,Computing-device,Cellphone,Desktop-computer,Laptop-computer,Tablet-computer,Engine,IO-device,Input-device,Computer-mouse,Mouse-button,Scroll-wheel,Joystick,Keyboard,Keyboard-key,#,Keypad,Keypad-key,#,Microphone,Push-button,Output-device,Display-device,Head-mounted-display,LED-display,Computer-screen,Screen-window,Auditory-device,Headphones,Loudspeaker,Recording-device,EEG-recorder,File-storage,MEG-recorder,Motion-capture,Tape-recorder,Touchscreen,Machine,Measurement-device,Clock,Clock-face,Robot,Tool,Document,Letter,Note,Book,Notebook,Questionnaire,Furnishing,Manufactured-material,Ceramic,Glass,Paper,Plastic,Steel,Media,Media-clip,Audio-clip,Audiovisual-clip,Video-clip,Visualization,Animation,Art-installation,Braille,Image,Cartoon,Drawing,Icon,Painting,Photograph,Movie,Outline-visualization,Point-light-visualization,Sculpture,Stick-figure-visualization,Navigational-object,Path,Road,Lane,Runway,Vehicle,Aircraft,Bicycle,Boat,Car,Cart,Tractor,Train,Truck,Natural-object,Mineral,Natural-feature,Field,Hill,Mountain,River,Waterfall,Sound,Environmental-sound,Crowd-sound,Signal-noise,Musical-sound,Tone,Instrument-sound,Vocalized-sound,Named-animal-sound,Barking,Bleating,Crowing,Chirping,Growling,Meowing,Mooing,Purring,Roaring,Squawking,Named-object-sound,Alarm-sound,Beep,Buzz,Ka-ching,Click,Ding,Horn-blow,Siren,Property,Agent-property,Agent-state,Agent-cognitive-state,Alert,Anesthetized,Asleep,Attentive,Distracted,Awake,Brain-dead,Comatose,Drowsy,Intoxicated,Locked-in,Passive,Resting,Vegetative,Agent-emotional-state,Angry,Aroused,Awed,Compassionate,Content,Disgusted,Emotionally-neutral,Empathetic,Excited,Fearful,Frustrated,Grieving,Happy,Jealous,Joyful,Loving,Relieved,Sad,Stressed,Agent-physiological-state,Healthy,Hungry,Rested,Sated,Sick,Thirsty,Tired,Agent-postural-state,Crouching,Eyes-closed,Eyes-open,Kneeling,On-treadmill,Prone,Sitting,Standing,Seated-with-chin-rest,Agent-task-role,Experiment-actor,Experiment-controller,Experiment-participant,Experimenter,Agent-trait,Age,#,Agent-experience-level,Expert-level,Intermediate-experience-level,Novice-level,Gender,Sex,Female,Male,Intersex,Ethnicity,Handedness,Left-handed,Right-handed,Ambidextrous,Race,Data-property,Data-marker,Data-break-marker,Temporal-marker,Inset,Onset,Offset,Pause,Time-out,Time-sync,Data-resolution,Printer-resolution,#,Screen-resolution,#,Sensory-resolution,#,Spatial-resolution,#,Spectral-resolution,#,Temporal-resolution,#,Data-source-type,Computed-feature,Computed-prediction,Expert-annotation,Instrument-measurement,Observation,Data-value,Categorical-value,Categorical-class-value,All,Correct,Explicit,False,Implicit,Invalid,None,Some,True,Valid,Wrong,Categorical-judgment-value,Abnormal,Asymmetrical,Audible,Congruent,Complex,Constrained,Disordered,Familiar,Famous,Inaudible,Incongruent,Involuntary,Masked,Normal,Ordered,Simple,Symmetrical,Unconstrained,Unfamiliar,Unmasked,Voluntary,Categorical-level-value,Cold,Deep,High,Hot,Large,Liminal,Loud,Low,Medium,Negative,Positive,Quiet,Rough,Shallow,Small,Smooth,Subliminal,Supraliminal,Thick,Thin,Categorical-orientation-value,Backward,Downward,Forward,Horizontally-oriented,Leftward,Oblique,Rightward,Rotated,Upward,Vertically-oriented,Physical-value,Weight,#,Temperature,#,Quantitative-value,Fraction,#,Item-count,#,Item-index,#,Item-interval,#,Percentage,#,Ratio,#,Statistical-value,Data-maximum,#,Data-mean,#,Data-median,#,Data-minimum,#,Probability,#,Standard-deviation,#,Statistical-accuracy,#,Statistical-precision,#,Statistical-recall,#,Statistical-uncertainty,#,Spatiotemporal-value,Rate-of-change,Acceleration,#,Frequency,#,Jerk-rate,#,Sampling-rate,#,Refresh-rate,#,Speed,#,Temporal-rate,#,Spatial-value,Angle,#,Distance,#,Position,X-position,#,Y-position,#,Z-position,#,Size,Area,#,Depth,#,Length,#,Width,#,Height,#,Volume,#,Temporal-value,Delay,#,Duration,#,Time-interval,#,Time-value,#,Data-variability-attribute,Abrupt,Constant,Continuous,Decreasing,Deterministic,Discontinuous,Discrete,Flickering,Estimated-value,Exact-value,Fractal,Increasing,Random,Repetitive,Stochastic,Varying,Environmental-property,Indoors,Outdoors,Real-world,Virtual-world,Augmented-reality,Motion-platform,Urban,Rural,Terrain,Composite-terrain,Dirt-terrain,Grassy-terrain,Gravel-terrain,Leaf-covered-terrain,Muddy-terrain,Paved-terrain,Rocky-terrain,Sloped-terrain,Uneven-terrain,Informational-property,Description,#,ID,#,Label,#,Metadata,CogAtlas,#,CogPo,#,Creation-date,#,Experimental-note,#,Library-name,#,OBO-identifier,#,Pathname,#,Subject-identifier,#,Version-identifier,#,Parameter,Parameter-label,#,Parameter-value,#,Organizational-property,Collection,#,Condition-variable,#,Control-variable,#,Def,#,Def-expand,#,Definition,#,Event-context,Event-stream,#,Experimental-intertrial,#,Experimental-trial,#,Indicator-variable,#,Recording,#,Task,#,Time-block,#,Sensory-property,Sensory-attribute,Auditory-attribute,Loudness,#,Pitch,#,Sound-envelope,Sound-envelope-attack,#,Sound-envelope-decay,#,Sound-envelope-release,#,Sound-envelope-sustain,#,Timbre,#,Sound-volume,#,Gustatory-attribute,Bitter,Salty,Savory,Sour,Sweet,Olfactory-attribute,Somatic-attribute,Pain,Stress,Tactile-attribute,Tactile-pressure,Tactile-temperature,Tactile-texture,Tactile-vibration,Vestibular-attribute,Visual-attribute,Color,CSS-color,Blue-color,CadetBlue,SteelBlue,LightSteelBlue,LightBlue,PowderBlue,LightSkyBlue,SkyBlue,CornflowerBlue,DeepSkyBlue,DodgerBlue,RoyalBlue,Blue,MediumBlue,DarkBlue,Navy,MidnightBlue,Brown-color,Cornsilk,BlanchedAlmond,Bisque,NavajoWhite,Wheat,BurlyWood,Tan,RosyBrown,SandyBrown,GoldenRod,DarkGoldenRod,Peru,Chocolate,Olive,SaddleBrown,Sienna,Brown,Maroon,Cyan-color,Aqua,Cyan,LightCyan,PaleTurquoise,Aquamarine,Turquoise,MediumTurquoise,DarkTurquoise,Green-color,GreenYellow,Chartreuse,LawnGreen,Lime,LimeGreen,PaleGreen,LightGreen,MediumSpringGreen,SpringGreen,MediumSeaGreen,SeaGreen,ForestGreen,Green,DarkGreen,YellowGreen,OliveDrab,DarkOliveGreen,MediumAquaMarine,DarkSeaGreen,LightSeaGreen,DarkCyan,Teal,Gray-color,Gainsboro,LightGray,Silver,DarkGray,DimGray,Gray,LightSlateGray,SlateGray,DarkSlateGray,Black,Orange-color,Orange,DarkOrange,Coral,Tomato,OrangeRed,Pink-color,Pink,LightPink,HotPink,DeepPink,PaleVioletRed,MediumVioletRed,Purple-color,Lavender,Thistle,Plum,Orchid,Violet,Fuchsia,Magenta,MediumOrchid,DarkOrchid,DarkViolet,BlueViolet,DarkMagenta,Purple,MediumPurple,MediumSlateBlue,SlateBlue,DarkSlateBlue,RebeccaPurple,Indigo,Red-color,LightSalmon,Salmon,DarkSalmon,LightCoral,IndianRed,Crimson,Red,FireBrick,DarkRed,Yellow-color,Gold,Yellow,LightYellow,LemonChiffon,LightGoldenRodYellow,PapayaWhip,Moccasin,PeachPuff,PaleGoldenRod,Khaki,DarkKhaki,White-color,White,Snow,HoneyDew,MintCream,Azure,AliceBlue,GhostWhite,WhiteSmoke,SeaShell,Beige,OldLace,FloralWhite,Ivory,AntiqueWhite,Linen,LavenderBlush,MistyRose,Color-shade,Dark-shade,Light-shade,Grayscale,#,HSV-color,Hue,#,Saturation,#,HSV-value,#,RGB-color,RGB-red,#,RGB-blue,#,RGB-green,#,Luminance,Opacity,Sensory-presentation,Auditory-presentation,Loudspeaker-separation,Monophonic,Silent,Stereophonic,Gustatory-presentation,Olfactory-presentation,Somatic-presentation,Tactile-presentation,Vestibular-presentation,Visual-presentation,2D-view,3D-view,Background-view,Bistable-view,Foreground-view,Foveal-view,Map-view,Aerial-view,Satellite-view,Street-view,Peripheral-view,Task-property,Task-attentional-demand,Bottom-up-attention,Covert-attention,Divided-attention,Focused-attention,Orienting-attention,Overt-attention,Selective-attention,Sustained-attention,Switched-attention,Top-down-attention,Task-effect-evidence,Computational-evidence,External-evidence,Intended-effect,Behavioral-evidence,Task-event-role,Experimental-stimulus,Incidental,Instructional,Mishap,Participant-response,Task-activity,Warning,Task-action-type,Appropriate-action,Correct-action,Correction,Done-indication,Incorrect-action,Imagined-action,Inappropriate-action,Indeterminate-action,Omitted-action,Miss,Near-miss,Ready-indication,Task-relationship,Background-subtask,Primary-subtask,Task-stimulus-role,Cue,Distractor,Expected,Extraneous,Feedback,Go-signal,Meaningful,Newly-learned,Non-informative,Non-target,Not-meaningful,Novel,Oddball,Planned,Penalty,Priming,Query,Reward,Stop-signal,Target,Threat,Timed,Unexpected,Unplanned,Relation,Comparative-relation,Approximately-equal-to,Less-than,Less-than-or-equal-to,Greater-than,Greater-than-or-equal-to,Equal-to,Not-equal-to,Connective-relation,Belongs-to,Connected-to,Contained-in,Described-by,From-to,Group-of,Implied-by,Includes,Interacts-with,Member-of,Part-of,Performed-by,Performed-using,Related-to,Unrelated-to,Directional-relation,Away-from,Towards,Logical-relation,And,Or,Spatial-relation,Above,Across-from,Adjacent-to,Ahead-of,Around,Behind,Below,Between,Bilateral-to,Bottom-edge-of,Boundary-of,Center-of,Close-to,Far-from,In-front-of,Left-edge-of,Left-side-of,Lower-center-of,Lower-left-of,Lower-right-of,Outside-of,Over,Right-edge-of,Right-side-of,To-left-of,To-right-of,Top-edge-of,Top-of,Upper-center-of,Upper-left-of,Upper-right-of,Underneath,Within,Temporal-relation,After,Asynchronous-with,Before,During,Synchronous-with,Waiting-for\n"
     ]
    }
   ],
   "source": [
    "hed_vocab = get_hed_vocab()\n",
    "print(hed_vocab)"
   ]
  },
  {
   "cell_type": "code",
   "execution_count": 11,
   "id": "21500d07-4604-4a5f-9373-b4365ef6da9d",
   "metadata": {},
   "outputs": [
    {
     "data": {
      "text/plain": [
       "'(Visual-presentation,(2D-view,(Background-view,Open-market),(Foreground-view,((Center-of,Image),(People,Pile-of-vegetables))))'"
      ]
     },
     "execution_count": 11,
     "metadata": {},
     "output_type": "execute_result"
    }
   ],
   "source": [
    "messages=[\n",
    "        {\"role\": \"system\", \"content\": \"You are a good translator.\"},\n",
    "        {\"role\": \"system\", \"content\": f\"Use only terms from this comma-separated list: {hed_vocab}\"},\n",
    "        {\"role\": \"user\", \"content\": \"The visual presentation of a white cross and a grayscale image of a face with hair in a black background.\"},\n",
    "        {\"role\": \"assistant\", \"content\": \"(Visual-presentation,(Background-view,Black),(Foreground-view,((Center-of,Computer-screen),(Cross,White)),(Grayscale,(Face,Hair,Image))))\"},\n",
    "        {\"role\": \"user\", \"content\": \"A visual presentation of an image of an open market full of people and piles of vegetables.\"}\n",
    "]\n",
    "opai.prompt_engineer(messages,\"gpt-3.5-turbo\")"
   ]
  },
  {
   "cell_type": "code",
   "execution_count": 14,
   "id": "5e1b2621-164c-41c2-8a12-89e7ce140e86",
   "metadata": {},
   "outputs": [
    {
     "data": {
      "text/plain": [
       "'(Visual-presentation, (Background-view, Outdoors), (Foreground-view, (Image, Open-market, Full-of-people, Piles-of-vegetables)))'"
      ]
     },
     "execution_count": 14,
     "metadata": {},
     "output_type": "execute_result"
    }
   ],
   "source": [
    "messages=[\n",
    "        {\"role\": \"system\", \"content\": f\"You are a precise translator using only terms from this comma-separated list: {hed_vocab}\"},\n",
    "        {\"role\": \"user\", \"content\": \"The visual presentation of a white cross and a grayscale image of a face with hair in a black background.\"},\n",
    "        {\"role\": \"assistant\", \"content\": \"(Visual-presentation,(Background-view,Black),(Foreground-view,((Center-of,Computer-screen),(Cross,White)),(Grayscale,(Face,Hair,Image))))\"},\n",
    "        {\"role\": \"user\", \"content\": \"A visual presentation of an image of an open market full of people and piles of vegetables.\"}\n",
    "]\n",
    "opai.prompt_engineer(messages,\"gpt-3.5-turbo\")"
   ]
  },
  {
   "cell_type": "code",
   "execution_count": null,
   "id": "743984b2-66f0-4606-80cc-3049369e831d",
   "metadata": {},
   "outputs": [],
   "source": []
  }
 ],
 "metadata": {
  "kernelspec": {
   "display_name": "Python 3 (ipykernel)",
   "language": "python",
   "name": "python3"
  },
  "language_info": {
   "codemirror_mode": {
    "name": "ipython",
    "version": 3
   },
   "file_extension": ".py",
   "mimetype": "text/x-python",
   "name": "python",
   "nbconvert_exporter": "python",
   "pygments_lexer": "ipython3",
   "version": "3.11.4"
  }
 },
 "nbformat": 4,
 "nbformat_minor": 5
}
